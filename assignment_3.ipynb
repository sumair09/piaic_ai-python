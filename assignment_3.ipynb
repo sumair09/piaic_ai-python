{
 "cells": [
  {
   "cell_type": "code",
   "execution_count": 9,
   "metadata": {},
   "outputs": [
    {
     "name": "stdout",
     "output_type": "stream",
     "text": [
      "Enter file name with .htmlexample_html_file.html\n",
      "*******Tag Names*******\n",
      "html\n",
      "head\n",
      "title\n",
      "style\n",
      "body\n",
      "h1\n",
      "p\n",
      "a\n",
      "Total tags In example_html_file.html  =  10\n"
     ]
    }
   ],
   "source": [
    "from html.parser import HTMLParser\n",
    "import os\n",
    "import sys\n",
    "\n",
    "dictionary_tags ={}\n",
    "dictionary_close_tags ={}\n",
    "class MyHTMLParser(HTMLParser):\n",
    "    def handle_starttag(self, tag, attrs):\n",
    "        if tag not in dictionary_tags:\n",
    "            dictionary_tags[tag] = 1\n",
    "        else:\n",
    "            dictionary_tags[tag]  +=1    \n",
    "    def display (self):  \n",
    "        print(\"*******Tag Names*******\")\n",
    "        for i in dictionary_tags:\n",
    "            print(i)\n",
    "        \n",
    "    def handle_endtag(self, tag):\n",
    "        if tag not in dictionary_close_tags:\n",
    "            dictionary_close_tags[tag] = 1\n",
    "        else:\n",
    "            dictionary_close_tags[tag]  +=1 \n",
    "\n",
    "\n",
    "user_input = input(\"Enter file name with .html\")   \n",
    "try:\n",
    "    with open(userInput, \"r\") as f:\n",
    "        parser = MyHTMLParser()\n",
    "        file_content = f.read()\n",
    "        paired_tags = file_content.count('</')\n",
    "        unPaired_tags = file_content.count('/>')\n",
    "        parser.feed(file_content)\n",
    "        parser.display()\n",
    "        total_tags = paired_tags + unPaired_tags\n",
    "        print(\"Total tags In\",user_input ,\" = \",total_tags)\n",
    "except FileNotFoundError:\n",
    "        message = \"Sorry, the file \" + user_input + \" does not exist.\"\n",
    "        print(message)"
   ]
  },
  {
   "cell_type": "code",
   "execution_count": 2,
   "metadata": {},
   "outputs": [
    {
     "name": "stdout",
     "output_type": "stream",
     "text": [
      "please enter comma seperated file name: filename.txt \n",
      "sample_text_file.txt4\n",
      "\n",
      " No of words= 38128 \n",
      " No of spaces=  54320 \n",
      " No of lines= 4821  \n",
      " No Of Non space characters= 34\n",
      "No of paragraph 1\n"
     ]
    }
   ],
   "source": [
    "import os\n",
    "import sys\n",
    "\n",
    "def paraCounter(infile):\n",
    "    f = open(infile, encoding=\"utf8\")\n",
    "    line_count = 0\n",
    "    para_count = 0\n",
    "    empty = True\n",
    "    for i in f:\n",
    "        if '\\n' in i:\n",
    "            line_count += 1\n",
    "            if len(i) < 2:\n",
    "                empty = True\n",
    "            elif len(i) > 2 and empty is True:\n",
    "                para_count = para_count + 1\n",
    "                empty = False\n",
    "    f.close()\n",
    "    print(\"No of paragraph {}\".format(para_count))\n",
    "\n",
    "\n",
    "def fileParser(path):\n",
    "\n",
    "    file_open = open(path,encoding=\"utf8\")\n",
    "    total_words= total_spaces = total_lines = total_tabs = total_char = total_tabs = 0\n",
    "    totalLineinFile = file_open.read()\n",
    "    total_char = len(totalLineinFile)\n",
    "    total_words = len(totalLineinFile.split())\n",
    "    total_lines = totalLineinFile.count('\\n')\n",
    "    total_tabs = totalLineinFile.count('\\t')\n",
    "    total_spaces = totalLineinFile.count(' ')\n",
    "    total_spec_char = total_char - total_spaces - total_tabs\n",
    "    return total_words , total_spaces,total_lines ,total_tabs,total_spec_char\n",
    "    \n",
    "\n",
    "\n",
    "user_inp = input(\"please enter comma seperated file name: filename.txt \\n\")\n",
    "\n",
    "try:\n",
    "    with open(user_inp,encoding=\"utf8\") as f: \n",
    "        total_words, total_spaces, total_lines,total_tabs,total_spec_char = fileParser(user_inp)\n",
    "        print (\"\\n No of words= {} \\n No of spaces=  {} \\n No of lines= {}  \\n No Of Non space characters= {}\".format (total_words , total_spaces,total_lines ,total_tabs,total_spec_char))\n",
    "        paraCounter(user_inp)    \n",
    "except FileNotFoundError:\n",
    "        message = \"Sorry, the file \" + user_inp + \" does not exist.\"\n",
    "        print(message)"
   ]
  },
  {
   "cell_type": "code",
   "execution_count": null,
   "metadata": {},
   "outputs": [],
   "source": []
  }
 ],
 "metadata": {
  "kernelspec": {
   "display_name": "Python 3",
   "language": "python",
   "name": "python3"
  },
  "language_info": {
   "codemirror_mode": {
    "name": "ipython",
    "version": 3
   },
   "file_extension": ".py",
   "mimetype": "text/x-python",
   "name": "python",
   "nbconvert_exporter": "python",
   "pygments_lexer": "ipython3",
   "version": "3.7.1"
  }
 },
 "nbformat": 4,
 "nbformat_minor": 2
}
