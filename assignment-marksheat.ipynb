{
 "cells": [
  {
   "cell_type": "code",
   "execution_count": 27,
   "metadata": {},
   "outputs": [
    {
     "name": "stdout",
     "output_type": "stream",
     "text": [
      "Enter Your Name: sumair\n",
      "Enter your Maths marks: 88\n",
      "Enter your Science marks: 77\n",
      "Enter your Physics marks: 98\n",
      "Enter your Chemistry marks: 78\n",
      "Enter your Islamiat marks: 67\n"
     ]
    }
   ],
   "source": [
    "name= input(\"Enter Your Name: \")\n",
    "class = input(\"Enter Your Class: \")\n",
    "maths = float(input(\"Enter your Maths marks: \"))\n",
    "science = float(input(\"Enter your Science marks: \"))\n",
    "physics = float(input(\"Enter your Physics marks: \"))\n",
    "chemistry = float(input(\"Enter your Chemistry marks: \"))\n",
    "islamiat = float(input(\"Enter your Islamiat marks: \"))\n",
    "sum=maths+science+physics+chemistry+islamiat\n",
    "avg=sum/5\n",
    "if(avg>=90):\n",
    "    Grade='A'\n",
    "elif(avg>=80 and avg<90):\n",
    "    Grade='B'\n",
    "elif(avg>=70 and avg<80):\n",
    "    Grade='C'\n",
    "elif(avg>=60 and avg<70):\n",
    "    Grade='D'\n",
    "else:\n",
    "    Grade='E'\n",
    "import csv\n",
    "with open(\"marksheet.csv\", \"w\", newline=\"\") as f:\n",
    "\n",
    "    data_handler = csv.writer(f, delimiter=\",\")\n",
    "    data_handler.writerow([\"Name\",,\"Class\"\"Maths\",\"Science\",\"Physics\",\"Chemistry\",\"Islamiat\",\"Sum\",\"Percentage\",\"Grade\"])\n",
    "    data_handler.writerow([name,class,maths,science,physics,chemistry,islamiat,sum,avg,Grade])"
   ]
  },
  {
   "cell_type": "code",
   "execution_count": null,
   "metadata": {},
   "outputs": [],
   "source": []
  },
  {
   "cell_type": "code",
   "execution_count": null,
   "metadata": {},
   "outputs": [],
   "source": []
  },
  {
   "cell_type": "code",
   "execution_count": null,
   "metadata": {},
   "outputs": [],
   "source": []
  }
 ],
 "metadata": {
  "kernelspec": {
   "display_name": "Python 3",
   "language": "python",
   "name": "python3"
  },
  "language_info": {
   "codemirror_mode": {
    "name": "ipython",
    "version": 3
   },
   "file_extension": ".py",
   "mimetype": "text/x-python",
   "name": "python",
   "nbconvert_exporter": "python",
   "pygments_lexer": "ipython3",
   "version": "3.7.1"
  }
 },
 "nbformat": 4,
 "nbformat_minor": 2
}
