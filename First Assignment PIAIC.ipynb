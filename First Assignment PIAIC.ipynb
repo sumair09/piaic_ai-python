{
 "cells": [
  {
   "cell_type": "code",
   "execution_count": null,
   "metadata": {},
   "outputs": [],
   "source": [
    "#1 Calculate Area Of Circle\n",
    "pi= 3.14159\n",
    "radius = float(input(\"Enter value of radius: \"))\n",
    "area = pi * (radius*radius)\n",
    "print(\"Area of circle is: \",area)\n"
   ]
  },
  {
   "cell_type": "code",
   "execution_count": null,
   "metadata": {},
   "outputs": [],
   "source": [
    "#2 Check Number either positive, negative or zero\n",
    "number = float(input(\"Enter number:\"))\n",
    "if number>0:\n",
    "    print(\"Positive Number Entered\")\n",
    "elif number==0:\n",
    "    print(\"Zero Entered\")\n",
    "else:\n",
    "    print(\"Negative Number Entered\")"
   ]
  },
  {
   "cell_type": "code",
   "execution_count": null,
   "metadata": {},
   "outputs": [],
   "source": [
    "#3 Divisibility Check of two numbers\n",
    "numenator = int(input(\"Enter Numenator: \"))\n",
    "denominator = int(input(\"Enter Denomenator: \"))\n",
    "if numenator%denominator==0:\n",
    "    print(\"Number\",numenator, \"is Completely divided by\",denominator)\n",
    "else:\n",
    "        print(\"Number\",numenator, \"is not Completely divided by\",denominator)"
   ]
  },
  {
   "cell_type": "code",
   "execution_count": 11,
   "metadata": {},
   "outputs": [
    {
     "name": "stdout",
     "output_type": "stream",
     "text": [
      "Enter a date in (dd/mm/yy) format: 12/08/2019\n",
      "Enter a date in (dd/mm/yy) format: 20/10/2019\n",
      "There are  69 days between  2019-08-12  and  2019-10-20\n"
     ]
    }
   ],
   "source": [
    "#4 Days Calculator\n",
    "\n",
    "from datetime import datetime\n",
    "\n",
    "startDate = input(\"Enter a date in (dd/mm/yy) format: \")\n",
    "endDate = input(\"Enter a date in (dd/mm/yy) format: \")\n",
    "\n",
    "finalstartDate = datetime.strptime(startDate,\"%d/%m/%Y\").date()\n",
    "finalendDate = datetime.strptime(endDate,\"%d/%m/%Y\").date()\n",
    "\n",
    "remainingDays = finalendDate - finalstartDate\n",
    "\n",
    "print (\"There are \", remainingDays.days, \"days between \", finalstartDate,\" and \",finalendDate)\n"
   ]
  },
  {
   "cell_type": "code",
   "execution_count": 9,
   "metadata": {},
   "outputs": [
    {
     "name": "stdout",
     "output_type": "stream",
     "text": [
      "Enter value of radius: 1\n",
      "Volume of the Sphere with Radius is:  4.188786666666666\n"
     ]
    }
   ],
   "source": [
    "#5 Calculate Volume Of Sphere\n",
    "pi= 3.14159\n",
    "radius = float(input(\"Enter value of radius: \"))\n",
    "volume = 4.0/3.0*pi*radius**3\n",
    "print(\"Volume of the Sphere with Radius is: \",volume)"
   ]
  },
  {
   "cell_type": "code",
   "execution_count": 15,
   "metadata": {},
   "outputs": [
    {
     "name": "stdout",
     "output_type": "stream",
     "text": [
      "Enter String: Fareed\n",
      "How many copies of String you need: 9\n",
      "FareedFareedFareedFareedFareedFareedFareedFareedFareed  \n"
     ]
    }
   ],
   "source": [
    "#6 Copy String n times\n",
    "a = str(input(\"Enter String: \"))\n",
    "result = \"\"\n",
    "b = int(input(\"How many copies of String you need: \"))\n",
    "print(b*a)"
   ]
  },
  {
   "cell_type": "code",
   "execution_count": null,
   "metadata": {},
   "outputs": [],
   "source": [
    "#7 Check If number is Even Or Odd\n",
    "num = int(input(\"Enter Number: \"))\n",
    "mod = num % 2\n",
    "if mod > 0:\n",
    "    print(num,\"is Odd\")\n",
    "else:\n",
    "    print(num,\"is Even\")"
   ]
  },
  {
   "cell_type": "code",
   "execution_count": null,
   "metadata": {},
   "outputs": [],
   "source": [
    "#8 Vowel Tester\n",
    "\n",
    "vowels = ['A','E','I','O','U','a','e','i','o','u']\n",
    "\n",
    "userInput = input(\"Enter A Character\")\n",
    "\n",
    "if userInput in vowels:\n",
    "    print(userInput, \" is Vowel\")\n",
    "else:\n",
    "    print(userInput,\" is not Vowel\")\n"
   ]
  },
  {
   "cell_type": "code",
   "execution_count": 2,
   "metadata": {},
   "outputs": [
    {
     "name": "stdout",
     "output_type": "stream",
     "text": [
      "Enter magnitude of Triangle base: 7\n",
      "Enter Magnitude of Triangle Height: 7\n",
      "Area of a Triangle with Height  7.0  and Base  7.0  is:  24.5\n"
     ]
    }
   ],
   "source": [
    "#9 Triangle Area\n",
    "magBase = float(input(\"Enter magnitude of Triangle base: \"))\n",
    "magHeight = float(input(\"Enter Magnitude of Triangle Height: \"))\n",
    "area = magBase*magHeight/2\n",
    "print(\"Area of a Triangle with Height \",magHeight, \" and Base \",magBase,\" is: \",area)\n"
   ]
  },
  {
   "cell_type": "code",
   "execution_count": 4,
   "metadata": {},
   "outputs": [
    {
     "name": "stdout",
     "output_type": "stream",
     "text": [
      "Please enter principal amount: 10000\n",
      "Please Enter Rate of interest in %: 0.1\n",
      "Enter number of years for investment: 5\n",
      "16105.100000000006\n"
     ]
    }
   ],
   "source": [
    "#10 Calculate Interest\n",
    "p = float(input(\"Please enter principal amount: \"))\n",
    "r = float(input(\"Please Enter Rate of interest in %: \"))\n",
    "t = float(input(\"Enter number of years for investment: \"))\n",
    "#a = p* (1 + r/100)**2\n",
    "a = p* (pow((1 + r*100 / 100), t))\n",
    "print(a)"
   ]
  },
  {
   "cell_type": "code",
   "execution_count": 14,
   "metadata": {},
   "outputs": [
    {
     "name": "stdout",
     "output_type": "stream",
     "text": [
      "Enter Co-Ordinate For x1 :2\n",
      "Enter Co-Ordinate For x2 :4\n",
      "Enter Co-Ordinate For y1 :4\n",
      "Enter Co-Ordinate For y2 :4\n",
      "2.0\n"
     ]
    }
   ],
   "source": [
    "#11 Euclidean distcance\n",
    "import math\n",
    "\n",
    "x1 = int(input(\"Enter Co-Ordinate For x1 :\"))\n",
    "x2 = int(input(\"Enter Co-Ordinate For x2 :\"))\n",
    "y1 = int(input(\"Enter Co-Ordinate For y1 :\"))\n",
    "y2 = int(input(\"Enter Co-Ordinate For y2 :\"))\n",
    "\n",
    "distance = math.sqrt( ((x1-y1)**2)+((x2-y2)**2) )\n",
    "\n",
    "print(distance)"
   ]
  },
  {
   "cell_type": "code",
   "execution_count": 9,
   "metadata": {},
   "outputs": [
    {
     "name": "stdout",
     "output_type": "stream",
     "text": [
      "Enter Height in feet5\n",
      "There are  152.4  cm in  5.0  ft\n"
     ]
    }
   ],
   "source": [
    "#12 Feet to centimeter Converter\n",
    "\n",
    "userHeight = float(input(\"Enter Height in feet\"))\n",
    "\n",
    "totalCm = userInput * 30.48\n",
    "\n",
    "print(\"There are \",totalCm , \" cm in \",userInput,\" ft\")"
   ]
  },
  {
   "cell_type": "code",
   "execution_count": 19,
   "metadata": {},
   "outputs": [
    {
     "name": "stdout",
     "output_type": "stream",
     "text": [
      "Enter Your Height in Cm180\n",
      "Enter Your Weight in kg75\n",
      "23.148148148148145\n"
     ]
    }
   ],
   "source": [
    "#13 BMI Calculator\n",
    "\n",
    "userHeight = float(input(\"Enter Your Height in Cm\"))\n",
    "userWeight = float(input(\"Enter Your Weight in kg\"))\n",
    "\n",
    "heightInMeters = userHeight * 0.01\n",
    "\n",
    "\n",
    "totalBmi = userWeight / (heightInMeters * heightInMeters)\n",
    "\n",
    "\n",
    "\n",
    "print(totalBmi)"
   ]
  },
  {
   "cell_type": "code",
   "execution_count": 12,
   "metadata": {},
   "outputs": [
    {
     "name": "stdout",
     "output_type": "stream",
     "text": [
      "Enter Number Of n7\n",
      "28\n"
     ]
    }
   ],
   "source": [
    "#14 Sum of n Positive Number\n",
    "\n",
    "sumNumber = 0\n",
    "\n",
    "userNumber =int(input(\"Enter Number Of n\"))\n",
    "if userNumber >=0:\n",
    "    total = int(userNumber * (userNumber + 1)/2)\n",
    "    print(total)\n",
    "else:\n",
    "    print(userNumber,\" is not positive Number\")"
   ]
  },
  {
   "cell_type": "code",
   "execution_count": 31,
   "metadata": {},
   "outputs": [
    {
     "name": "stdout",
     "output_type": "stream",
     "text": [
      "Enter a Number12345\n",
      "1 + 2 + 3 + 4 + 5\n",
      "Sum Of  1 + 2 + 3 + 4 + 5  is  15\n"
     ]
    }
   ],
   "source": [
    "#15 Digit sum of a Number\n",
    "\n",
    "number =int(input(\"Enter a Number\"))\n",
    "\n",
    "sumnum = str(number)\n",
    "\n",
    "lst = list(sumnum)\n",
    "\n",
    "\n",
    "totalDigits = ' + '.join(sumnum)\n",
    "\n",
    "print(totalDigits)\n",
    "\n",
    "total = 0\n",
    "while number>0:\n",
    "    digit = number%10\n",
    "    total = total+digit\n",
    "    number = number//10\n",
    "print(\"Sum Of \", totalDigits, \" is \", total)\n",
    "\n",
    "#for i in number:\n",
    "#    print(i)\n",
    "#    val = int(i)+int(1)\n",
    " #   lastValue = int(i)+val\n",
    "  #  valueSum = int(i) + val + lastValue\n",
    "   # print(i,val)\n",
    "    #print(i,\"+\",val,\"+\",lastValue,valueSum)\n",
    "#break\n"
   ]
  },
  {
   "cell_type": "code",
   "execution_count": 29,
   "metadata": {},
   "outputs": [
    {
     "name": "stdout",
     "output_type": "stream",
     "text": [
      "Enter a decimal number 98765\n",
      "11000000111001101"
     ]
    }
   ],
   "source": [
    "#16 Decimal To Binary Converter\n",
    "\n",
    "def DecimalToBinary(number):\n",
    "    if number > 0:\n",
    "        DecimalToBinary(number //2)\n",
    "        print(number % 2 ,end='')\n",
    "\n",
    "decimalNumber = int(input(\"Enter a decimal number \"))\n",
    "\n",
    "DecimalToBinary(decimalNumber)\n"
   ]
  },
  {
   "cell_type": "code",
   "execution_count": null,
   "metadata": {},
   "outputs": [],
   "source": [
    "#17 Binary To Decimal Converter\n",
    "\n",
    "bn = input(\"Enter a Binary number \")\n",
    "binaryNumber = list(bn)\n",
    "defaultValue = 0\n",
    "abc = str(binaryNumber)\n",
    "\n",
    "\n",
    "\n",
    "for d in range(len(binaryNumber)):\n",
    "    numbers = binaryNumber.pop()\n",
    "    if numbers == '1':\n",
    "        defaultValue = defaultValue + pow(2, d)\n",
    "print(\"Decimal Representation of \", bn,\" is \" ,defaultValue)\n",
    "    \n",
    " "
   ]
  },
  {
   "cell_type": "code",
   "execution_count": 10,
   "metadata": {},
   "outputs": [
    {
     "name": "stdout",
     "output_type": "stream",
     "text": [
      "Enter Text QuickBrownFoxJumpsovertheDog\n",
      "9\n",
      "19\n"
     ]
    }
   ],
   "source": [
    "#18 Vowel and Consonants Counter \n",
    "\n",
    "userInput = input(\"Enter Text \")\n",
    "vowels = 0\n",
    "consonants = 0\n",
    "for i in userInput:\n",
    "    if(i == 'a' or i == 'e' or i == 'i' or i == 'o' or i == 'u'\n",
    "       or i == 'A' or i == 'E' or i == 'I' or i == 'O' or i == 'U'):\n",
    "        vowels = vowels + 1\n",
    "    else:\n",
    "        consonants = consonants + 1\n",
    "\n",
    "print(\"Vowels : \",vowels)\n",
    "print(\"Consonants : \",consonants)"
   ]
  },
  {
   "cell_type": "code",
   "execution_count": 6,
   "metadata": {},
   "outputs": [
    {
     "name": "stdout",
     "output_type": "stream",
     "text": [
      "Enter Text :ALA\n",
      "Text  ALA  is Palindrome\n"
     ]
    }
   ],
   "source": [
    "#19 Palindrome tester \n",
    "\n",
    "userInput = input(\"Enter Text :\")\n",
    "palindrome = userInput[::-1]\n",
    "if userInput == palindrome:\n",
    "    print(\"Text \" , userInput,\" is Palindrome\")\n",
    "else:\n",
    "    print(\"Text \" , userInput,\" is not Palindrome\")\n"
   ]
  },
  {
   "cell_type": "code",
   "execution_count": null,
   "metadata": {},
   "outputs": [],
   "source": [
    "#20 Count Alphabets, Numbers and Special Characters  \n",
    "\n",
    "string = input(\"Please Enter your Own String : \")\n",
    "alphabets = digits = special = 0\n",
    "xyz = string.count(' ')\n",
    "for i in range(len(string)):\n",
    "    if(string[i].isalpha()):\n",
    "        alphabets = alphabets + 1\n",
    "    elif(string[i].isdigit()):\n",
    "        digits = digits + 1\n",
    "    else:\n",
    "        special = special + 1\n",
    "\n",
    "rst = special - xyz\n",
    "print(\"\\nTotal Number of Alphabets in this String :  \", alphabets)\n",
    "print(\"Total Number of Digits in this String :  \", digits)\n",
    "print(\"Total Number of Special Characters in this String :  \", rst) \n",
    "print(xyz)"
   ]
  },
  {
   "cell_type": "code",
   "execution_count": null,
   "metadata": {},
   "outputs": [],
   "source": [
    "#21 Pattern 1\n",
    "\n",
    "n=5;\n",
    "for i in range(n):\n",
    "    for j in range(i):\n",
    "        print ('* ', end=\"\")\n",
    "        \n",
    "    print('')\n",
    "\n",
    "for i in range(n,0,-1):\n",
    "    for j in range(i):\n",
    "        print('* ', end=\"\")\n",
    "    print('')\n"
   ]
  },
  {
   "cell_type": "code",
   "execution_count": null,
   "metadata": {},
   "outputs": [],
   "source": [
    "#22  Pattern 2 \n",
    "n=5\n",
    "r = 1\n",
    "for i in range(n):\n",
    "    for j in range(i):\n",
    "        print (j+1, end=\"\")\n",
    "    \n",
    "    print('')\n",
    "\n",
    "for i in range(5,0,-1):\n",
    "    for j in range(i):\n",
    "        print(j+1, end=\"\")\n",
    "    print('')"
   ]
  },
  {
   "cell_type": "code",
   "execution_count": 4,
   "metadata": {},
   "outputs": [
    {
     "name": "stdout",
     "output_type": "stream",
     "text": [
      "\n",
      "1\n",
      "22\n",
      "333\n",
      "4444\n",
      "55555\n",
      "666666\n",
      "7777777\n",
      "88888888\n",
      "999999999\n"
     ]
    }
   ],
   "source": [
    "#23 Pattern 3\n",
    "for i in range(10):\n",
    "    print(str(i) * i)"
   ]
  }
 ],
 "metadata": {
  "kernelspec": {
   "display_name": "Python 3",
   "language": "python",
   "name": "python3"
  },
  "language_info": {
   "codemirror_mode": {
    "name": "ipython",
    "version": 3
   },
   "file_extension": ".py",
   "mimetype": "text/x-python",
   "name": "python",
   "nbconvert_exporter": "python",
   "pygments_lexer": "ipython3",
   "version": "3.7.1"
  }
 },
 "nbformat": 4,
 "nbformat_minor": 2
}
